{
 "cells": [
  {
   "cell_type": "code",
   "execution_count": 18,
   "metadata": {},
   "outputs": [],
   "source": [
    "import cv2 # opencv\n",
    "import numpy as np  \n",
    "import os, sys\n",
    "import matplotlib.pyplot as plt\n",
    "import itertools\n",
    "%matplotlib inline \n",
    "import time"
   ]
  },
  {
   "cell_type": "code",
   "execution_count": 2,
   "metadata": {},
   "outputs": [],
   "source": [
    "def get_filenames(path, contains, does_not_contain=['~', '.pyc']):\n",
    "    cmd = 'ls ' + '\"' + path + '\"'\n",
    "    ls = os.popen(cmd).read()\n",
    "    all_filelist = ls.split('\\n')\n",
    "    try:\n",
    "        all_filelist.remove('')\n",
    "    except:\n",
    "        pass\n",
    "    filelist = []\n",
    "    for i, filename in enumerate(all_filelist):\n",
    "        if contains in filename:\n",
    "            fileok = True\n",
    "            for nc in does_not_contain:\n",
    "                if nc in filename:\n",
    "                    fileok = False\n",
    "            if fileok:\n",
    "                filelist.append( os.path.join(path, filename) )\n",
    "    return filelist\n",
    "    \n",
    "def load_image_file_and_convert_to_gray(filename): #square mask is trap-specific\n",
    "    img = cv2.imread(filename)\n",
    "    gimg = cv2.cvtColor(img, cv2.COLOR_RGB2GRAY)\n",
    "    # fill in top rows with black to hide timestamp\n",
    "    gimg[0:100,:] = 0 # If moving wires are a problem, one solution is to mask them out in a similar way\n",
    "    return gimg\n",
    "\n",
    "def load_color_image(filename):\n",
    "    img = cv2.imread(filename)\n",
    "    return img\n",
    "\n",
    "def load_mask(square_mask_path):\n",
    "    mask = cv2.imread(square_mask_path)\n",
    "    mask = cv2.cvtColor(mask, cv2.COLOR_RGB2GRAY)\n",
    "    mask = mask/255 #rescales mask to be 0s and 1s\n",
    "    return mask\n",
    "\n",
    "def load_image_file(filename):\n",
    "    img = cv2.imread(filename)\n",
    "    img[0:100,:] = 0\n",
    "    return img\n",
    "\n",
    "def load_image_stack(filelist):\n",
    "    image_stack = []\n",
    "    for filename in filelist:\n",
    "        image_stack.append(load_image_file_and_convert_to_gray(filename))\n",
    "    return image_stack"
   ]
  },
  {
   "cell_type": "code",
   "execution_count": 3,
   "metadata": {},
   "outputs": [],
   "source": [
    "def fit_ellipse_to_contour(contour):\n",
    "    M = cv2.moments(contour)\n",
    "    if M['m00'] != 0:\n",
    "        cx = int(M['m10']/M['m00']) # centroid, x\n",
    "        cy = int(M['m01']/M['m00']) # centroid, y\n",
    "        area = cv2.contourArea(contour)\n",
    "        return cx, cy, area\n",
    "    else:\n",
    "        return None\n",
    "    '''\n",
    "    ellipse = cv2.fitEllipse(contour)\n",
    "    (x,y), (a,b), angle = ellipse\n",
    "    a /= 2.\n",
    "    b /= 2.\n",
    "    eccentricity = np.min((a,b)) / np.max((a,b))\n",
    "    '''\n",
    "    return cx, cy, area\n",
    "\n",
    "def smooth_image(thresh_img):\n",
    "    kernel = cv2.getStructuringElement(cv2.MORPH_ELLIPSE, (3, 3))\n",
    "    thresh_img_smooth = cv2.morphologyEx(thresh_img, cv2.MORPH_OPEN, kernel, iterations = 1)\n",
    "    thresh_img_smooth = cv2.dilate(thresh_img_smooth, kernel, iterations=10) # make the contour bigger to join neighbors\n",
    "    thresh_img_smooth = cv2.erode(thresh_img_smooth, kernel, iterations=10) # make contour smaller again\n",
    "    return thresh_img_smooth\n",
    "\n",
    "def get_contours_from_frame_and_stack(image_stack, frame_to_analyze, threshold=25):\n",
    "    # get the median image\n",
    "    med_img = np.median(image_stack, axis=0)\n",
    "    \n",
    "    # find all the dark objects in the image compared to the median\n",
    "    thresh_img = cv2.compare(np.float32(image_stack[frame_to_analyze]), np.float32(med_img)-threshold, cv2.CMP_LT) \n",
    "    # CMP_LT is less than\n",
    "\n",
    "    # smooth the image a little. play around with the kernel size (specified above) to get desired effect\n",
    "    thresh_img_smooth = smooth_image(thresh_img)\n",
    "    \n",
    "    # grab the outer contour of the blobs. Note, this is for opencv version 3. \n",
    "    image, contours, hierarchy = cv2.findContours(thresh_img_smooth, cv2.RETR_EXTERNAL, cv2.CHAIN_APPROX_SIMPLE)\n",
    "\n",
    "    return contours\n",
    "\n",
    "def count_flies(image_stack, frame_to_analyze, minimum_contour_size=50, maximum_contour_size=200, threshold=25):\n",
    "    \n",
    "    contours = get_contours_from_frame_and_stack(image_stack, frame_to_analyze, threshold=threshold)\n",
    "\n",
    "    flies = []\n",
    "    not_flies = []\n",
    "    for contour in contours:\n",
    "        if len(contour) > 5: # smaller contours can't be turned into ellipses. \n",
    "            x, y, area = fit_ellipse_to_contour(contour)\n",
    "            #print 'Contour area: ', area\n",
    "            fly = {'x': x, 'y': y, 'area': area} # this is a dictionary\n",
    "            if area < maximum_contour_size and area > minimum_contour_size:\n",
    "                flies.append(fly)\n",
    "            else:\n",
    "                not_flies.append(fly)\n",
    "    #print 'There are ' + str(len(flies)) + ' flies in this frame.'\n",
    "    #print 'There are ' + str(len(not_flies)) + ' other things in this frame.'\n",
    "    return flies, not_flies\n",
    "    \n",
    "def show_image_with_circles_drawn_around_putative_flies(color_image, flies, not_flies, textstr):\n",
    "    fig = plt.figure(figsize=(20,12)) \n",
    "    ax = fig.add_subplot(111)\n",
    "    for fly in flies:\n",
    "        cv2.circle(color_image, (fly['x'], fly['y']), 50, [0,255,0], 5)\n",
    "        ax.text(fly['x']+50, fly['y']+50, str(fly['area']), color = ([0,1,0]))\n",
    "    for not_fly in not_flies:\n",
    "        cv2.circle(color_image, (not_fly['x'], not_fly['y']), 50, [255,0,0], 5)\n",
    "        ax.text(not_fly['x']+50, not_fly['y']+50, str(not_fly['area']), color =([1,0,0]))\n",
    "    ax.imshow(color_image, cmap='gray')\n",
    "    ax.axes.get_xaxis().set_visible(False)\n",
    "    ax.axes.get_yaxis().set_visible(False)\n",
    "    ax.text(0.5, 0.95, textstr, horizontalalignment='center',verticalalignment='center', transform=ax.transAxes, color = 'white', fontsize = 30)\n",
    "    plt.tight_layout(pad=0.0, w_pad=0.0, h_pad=0.0)\n",
    "    "
   ]
  },
  {
   "cell_type": "code",
   "execution_count": 4,
   "metadata": {},
   "outputs": [
    {
     "name": "stdout",
     "output_type": "stream",
     "text": [
      "60\n"
     ]
    }
   ],
   "source": [
    "directory = \"./2019_month_date/trapcam_timelapse/trap_B\"\n",
    "\n",
    "filename_list = get_filenames(path = directory, contains = \"tl\", does_not_contain = ['th'])\n",
    "square_mask = load_mask(square_mask_path = directory+'/mask.jpg')\n",
    "masked_image_stack = []\n",
    "for filename in filename_list:\n",
    "#     gimg = load_image_file_and_convert_to_gray(filename)\n",
    "#     masked_image_stack.append(gimg*square_mask)\n",
    "    img = load_color_image(filename)\n",
    "    masked_image_stack.append(cv2.bitwise_and(img,img,mask = square_mask))\n",
    "print len(masked_image_stack)\n"
   ]
  },
  {
   "cell_type": "code",
   "execution_count": 5,
   "metadata": {},
   "outputs": [],
   "source": [
    "def plot_two_frames(a, b):\n",
    "    fig = plt.figure(figsize=(20,6)) # change the figsize to increase/decrease the image size\n",
    "    ax = fig.add_subplot(121) # one axis\n",
    "    ax.imshow(a, cmap='gray')\n",
    "    ax.axes.get_xaxis().set_visible(False)\n",
    "    ax.axes.get_yaxis().set_visible(False)\n",
    "\n",
    "    ax2 = fig.add_subplot(122)\n",
    "    ax2.imshow(b, cmap='gray')\n",
    "    ax2.axes.get_xaxis().set_visible(False)\n",
    "    ax2.axes.get_yaxis().set_visible(False)\n",
    "    plt.tight_layout(pad=0.0, w_pad=0.0, h_pad=0.0)"
   ]
  },
  {
   "cell_type": "code",
   "execution_count": 6,
   "metadata": {},
   "outputs": [],
   "source": [
    "def plot_one_frame(a):\n",
    "    fig = plt.figure(figsize=(20,12)) # change the figsize to increase/decrease the image size\n",
    "    ax = fig.add_subplot(111) # one axis\n",
    "    ax.imshow(a, cmap='gray')\n",
    "    ax.axes.get_xaxis().set_visible(False)\n",
    "    ax.axes.get_yaxis().set_visible(False)\n",
    "    plt.tight_layout(pad=0.0, w_pad=0.0, h_pad=0.0)"
   ]
  },
  {
   "cell_type": "code",
   "execution_count": 23,
   "metadata": {},
   "outputs": [],
   "source": [
    "def find_contours_using_pretrained_backsub_MOG2(full_image_stack,\n",
    "                                                filename_stack,\n",
    "                                                train_num,\n",
    "                                                mahalanobis_squared_thresh,\n",
    "                                                buffer_btw_training_and_test, #I'm adding this because flies often stand still on the trap-top\n",
    "                                                minimum_contour_size,\n",
    "                                                maximum_contour_size,\n",
    "                                                plot_figures):\n",
    "\n",
    "    fgbg = cv2.createBackgroundSubtractorMOG2(history =train_num, varThreshold = mahalanobis_squared_thresh, detectShadows = False) # history = train_num frames, threshold 16, detect shadows = false\n",
    "\n",
    "    all_contour_areas = []\n",
    "    for index, training_image in enumerate(full_image_stack):\n",
    "        fgmask = fgbg.apply(training_image, None, -1) # TRAINING STEP.\n",
    "        if index > train_num: # when current index is less than train_num, the model hasn't been trained on the specified number of frames. After this point, the declaration of history = train_num should make the model \"forget\" earlier frames so it works as a sliding window\n",
    "            try:\n",
    "                test_image = full_image_stack[index+buffer_btw_training_and_test]\n",
    "            except:\n",
    "                break\n",
    "            fgmask1 = fgbg.apply(test_image, None, 0) # the 0 specifies that no learning is occurring\n",
    "            fgmask1 = smooth_image(fgmask1)\n",
    "            image, contours, hierarchy = cv2.findContours(fgmask1, cv2.RETR_EXTERNAL, cv2.CHAIN_APPROX_SIMPLE)\n",
    "            flies = []\n",
    "            not_flies = []\n",
    "            \n",
    "            for contour in contours:\n",
    "                if len(contour) > 5: # smaller contours can't be turned into ellipses. \n",
    "                    x, y, area = fit_ellipse_to_contour(contour)\n",
    "                    fly = {'x': x, 'y': y, 'area': area} \n",
    "                    if area < maximum_contour_size and area > minimum_contour_size:\n",
    "                        flies.append(fly)\n",
    "                    else:\n",
    "                        not_flies.append(fly)\n",
    "                    all_contour_areas.append(area)\n",
    "            if len(flies)> 0:\n",
    "                filename = filename_stack[index+buffer_btw_training_and_test].split('_')[-1].split('.')[0]\n",
    "                test_image_copy = test_image.copy()\n",
    "                if plot_figures:\n",
    "                    show_image_with_circles_drawn_around_putative_flies(test_image_copy, flies, not_flies, textstr = filename)\n",
    "                #plot_two_frames(test_image, fgmask1)\n",
    "                    plot_one_frame(fgmask1)\n",
    "    return flies, not_flies, all_contour_areas"
   ]
  },
  {
   "cell_type": "code",
   "execution_count": 24,
   "metadata": {
    "scrolled": false
   },
   "outputs": [
    {
     "name": "stdout",
     "output_type": "stream",
     "text": [
      "time taken: 0.0703291893005\n",
      "time taken: 0.0701839923859\n",
      "time taken: 0.0703318119049\n",
      "time taken: 0.0726389884949\n",
      "time taken: 0.0713419914246\n",
      "time taken: 0.0719690322876\n",
      "time taken: 0.0732991695404\n",
      "time taken: 0.0712509155273\n",
      "time taken: 0.0700919628143\n",
      "time taken: 0.0720789432526\n",
      "time taken: 0.0701599121094\n",
      "time taken: 0.0703530311584\n",
      "time taken: 0.0720610618591\n",
      "time taken: 0.0702328681946\n",
      "time taken: 0.0701701641083\n",
      "time taken: 0.0729129314423\n",
      "time taken: 0.0701661109924\n",
      "time taken: 0.0702090263367\n",
      "time taken: 0.0727639198303\n",
      "time taken: 0.0713908672333\n",
      "time taken: 0.0713839530945\n",
      "time taken: 0.0725131034851\n",
      "time taken: 0.0702130794525\n",
      "time taken: 0.0702080726624\n",
      "time taken: 0.0724670886993\n",
      "time taken: 0.0701589584351\n",
      "time taken: 0.0705049037933\n",
      "time taken: 0.072056055069\n",
      "time taken: 0.0714728832245\n",
      "time taken: 0.0703921318054\n",
      "time taken: 0.0725829601288\n",
      "time taken: 0.0702719688416\n",
      "time taken: 0.0702471733093\n",
      "time taken: 0.072723865509\n",
      "time taken: 0.0697391033173\n",
      "time taken: 0.0702469348907\n"
     ]
    }
   ],
   "source": [
    "flies, not_flies, all_contour_areas = find_contours_using_pretrained_backsub_MOG2(full_image_stack = masked_image_stack, \n",
    "                                                           filename_stack = filename_list,\n",
    "                                                           train_num = 20,\n",
    "                                                           mahalanobis_squared_thresh = 36,\n",
    "                                                           buffer_btw_training_and_test = 3, \n",
    "                                                           minimum_contour_size = 20, \n",
    "                                                           maximum_contour_size = 1000,\n",
    "                                                           plot_figures = False)"
   ]
  },
  {
   "cell_type": "code",
   "execution_count": 15,
   "metadata": {
    "scrolled": false
   },
   "outputs": [],
   "source": [
    "mahalan_list = [10,11,12,14,16,18,20,22,24,25,28,30, 32, 34, 40, 45, 50]\n",
    "total_contours_list = []\n",
    "for mahalan in mahalan_list:\n",
    "    flies, not_flies, all_contour_areas = find_contours_using_pretrained_backsub_MOG2(full_image_stack = masked_image_stack, \n",
    "                                                               filename_stack = filename_list,\n",
    "                                                               train_num = 20,\n",
    "                                                               mahalanobis_squared_thresh = mahalan,\n",
    "                                                               buffer_btw_training_and_test = 3, \n",
    "                                                               minimum_contour_size = 30, \n",
    "                                                               maximum_contour_size = 1000,\n",
    "                                                               plot_figures = False)\n",
    "    total_contours_list.append(all_contour_areas)"
   ]
  },
  {
   "cell_type": "code",
   "execution_count": 16,
   "metadata": {},
   "outputs": [
    {
     "data": {
      "text/plain": [
       "[<matplotlib.lines.Line2D at 0x7fe7bfecf190>]"
      ]
     },
     "execution_count": 16,
     "metadata": {},
     "output_type": "execute_result"
    },
    {
     "data": {
      "image/png": "[encoded data removed]",
      "text/plain": [
       "<matplotlib.figure.Figure at 0x7fe7c006db10>"
      ]
     },
     "metadata": {},
     "output_type": "display_data"
    }
   ],
   "source": [
    "fig = plt.figure(figsize=(20,12)) # change the figsize to increase/decrease the image size\n",
    "ax = fig.add_subplot(111) # one axis\n",
    "ax.plot([np.sqrt(x) for x in mahalan_list], [len(i) for i in total_contours_list])\n"
   ]
  },
  {
   "cell_type": "code",
   "execution_count": null,
   "metadata": {},
   "outputs": [],
   "source": []
  }
 ],
 "metadata": {
  "kernelspec": {
   "display_name": "Python 2",
   "language": "python",
   "name": "python2"
  },
  "language_info": {
   "codemirror_mode": {
    "name": "ipython",
    "version": 2
   },
   "file_extension": ".py",
   "mimetype": "text/x-python",
   "name": "python",
   "nbconvert_exporter": "python",
   "pygments_lexer": "ipython2",
   "version": "2.7.12"
  }
 },
 "nbformat": 4,
 "nbformat_minor": 2
}
